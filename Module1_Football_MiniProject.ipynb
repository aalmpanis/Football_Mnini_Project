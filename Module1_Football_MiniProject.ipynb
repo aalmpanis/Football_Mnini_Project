{
 "cells": [
  {
   "cell_type": "code",
   "execution_count": 1,
   "id": "62605c3d",
   "metadata": {},
   "outputs": [],
   "source": [
    "# Read the data into a dataframe\n",
    "import pandas as pd\n",
    "\n",
    "df = pd.read_csv('results.csv')"
   ]
  },
  {
   "cell_type": "code",
   "execution_count": 2,
   "id": "0a0d31de",
   "metadata": {},
   "outputs": [
    {
     "data": {
      "text/html": [
       "<div>\n",
       "<style scoped>\n",
       "    .dataframe tbody tr th:only-of-type {\n",
       "        vertical-align: middle;\n",
       "    }\n",
       "\n",
       "    .dataframe tbody tr th {\n",
       "        vertical-align: top;\n",
       "    }\n",
       "\n",
       "    .dataframe thead th {\n",
       "        text-align: right;\n",
       "    }\n",
       "</style>\n",
       "<table border=\"1\" class=\"dataframe\">\n",
       "  <thead>\n",
       "    <tr style=\"text-align: right;\">\n",
       "      <th></th>\n",
       "      <th>date</th>\n",
       "      <th>home_team</th>\n",
       "      <th>away_team</th>\n",
       "      <th>home_score</th>\n",
       "      <th>away_score</th>\n",
       "      <th>tournament</th>\n",
       "      <th>city</th>\n",
       "      <th>country</th>\n",
       "      <th>neutral</th>\n",
       "    </tr>\n",
       "  </thead>\n",
       "  <tbody>\n",
       "    <tr>\n",
       "      <th>0</th>\n",
       "      <td>1872-11-30</td>\n",
       "      <td>Scotland</td>\n",
       "      <td>England</td>\n",
       "      <td>0</td>\n",
       "      <td>0</td>\n",
       "      <td>Friendly</td>\n",
       "      <td>Glasgow</td>\n",
       "      <td>Scotland</td>\n",
       "      <td>False</td>\n",
       "    </tr>\n",
       "    <tr>\n",
       "      <th>1</th>\n",
       "      <td>1873-03-08</td>\n",
       "      <td>England</td>\n",
       "      <td>Scotland</td>\n",
       "      <td>4</td>\n",
       "      <td>2</td>\n",
       "      <td>Friendly</td>\n",
       "      <td>London</td>\n",
       "      <td>England</td>\n",
       "      <td>False</td>\n",
       "    </tr>\n",
       "    <tr>\n",
       "      <th>2</th>\n",
       "      <td>1874-03-07</td>\n",
       "      <td>Scotland</td>\n",
       "      <td>England</td>\n",
       "      <td>2</td>\n",
       "      <td>1</td>\n",
       "      <td>Friendly</td>\n",
       "      <td>Glasgow</td>\n",
       "      <td>Scotland</td>\n",
       "      <td>False</td>\n",
       "    </tr>\n",
       "    <tr>\n",
       "      <th>3</th>\n",
       "      <td>1875-03-06</td>\n",
       "      <td>England</td>\n",
       "      <td>Scotland</td>\n",
       "      <td>2</td>\n",
       "      <td>2</td>\n",
       "      <td>Friendly</td>\n",
       "      <td>London</td>\n",
       "      <td>England</td>\n",
       "      <td>False</td>\n",
       "    </tr>\n",
       "    <tr>\n",
       "      <th>4</th>\n",
       "      <td>1876-03-04</td>\n",
       "      <td>Scotland</td>\n",
       "      <td>England</td>\n",
       "      <td>3</td>\n",
       "      <td>0</td>\n",
       "      <td>Friendly</td>\n",
       "      <td>Glasgow</td>\n",
       "      <td>Scotland</td>\n",
       "      <td>False</td>\n",
       "    </tr>\n",
       "    <tr>\n",
       "      <th>...</th>\n",
       "      <td>...</td>\n",
       "      <td>...</td>\n",
       "      <td>...</td>\n",
       "      <td>...</td>\n",
       "      <td>...</td>\n",
       "      <td>...</td>\n",
       "      <td>...</td>\n",
       "      <td>...</td>\n",
       "      <td>...</td>\n",
       "    </tr>\n",
       "    <tr>\n",
       "      <th>42645</th>\n",
       "      <td>2021-09-09</td>\n",
       "      <td>Colombia</td>\n",
       "      <td>Chile</td>\n",
       "      <td>3</td>\n",
       "      <td>1</td>\n",
       "      <td>FIFA World Cup qualification</td>\n",
       "      <td>Barranquilla</td>\n",
       "      <td>Colombia</td>\n",
       "      <td>False</td>\n",
       "    </tr>\n",
       "    <tr>\n",
       "      <th>42646</th>\n",
       "      <td>2021-09-09</td>\n",
       "      <td>Paraguay</td>\n",
       "      <td>Venezuela</td>\n",
       "      <td>2</td>\n",
       "      <td>1</td>\n",
       "      <td>FIFA World Cup qualification</td>\n",
       "      <td>Asunción</td>\n",
       "      <td>Paraguay</td>\n",
       "      <td>False</td>\n",
       "    </tr>\n",
       "    <tr>\n",
       "      <th>42647</th>\n",
       "      <td>2021-09-09</td>\n",
       "      <td>Uruguay</td>\n",
       "      <td>Ecuador</td>\n",
       "      <td>1</td>\n",
       "      <td>0</td>\n",
       "      <td>FIFA World Cup qualification</td>\n",
       "      <td>Montevideo</td>\n",
       "      <td>Uruguay</td>\n",
       "      <td>False</td>\n",
       "    </tr>\n",
       "    <tr>\n",
       "      <th>42648</th>\n",
       "      <td>2021-09-09</td>\n",
       "      <td>Argentina</td>\n",
       "      <td>Bolivia</td>\n",
       "      <td>3</td>\n",
       "      <td>0</td>\n",
       "      <td>FIFA World Cup qualification</td>\n",
       "      <td>Buenos Aires</td>\n",
       "      <td>Argentina</td>\n",
       "      <td>False</td>\n",
       "    </tr>\n",
       "    <tr>\n",
       "      <th>42649</th>\n",
       "      <td>2021-09-09</td>\n",
       "      <td>Brazil</td>\n",
       "      <td>Peru</td>\n",
       "      <td>2</td>\n",
       "      <td>0</td>\n",
       "      <td>FIFA World Cup qualification</td>\n",
       "      <td>Recife</td>\n",
       "      <td>Brazil</td>\n",
       "      <td>False</td>\n",
       "    </tr>\n",
       "  </tbody>\n",
       "</table>\n",
       "<p>42650 rows × 9 columns</p>\n",
       "</div>"
      ],
      "text/plain": [
       "             date  home_team  away_team  home_score  away_score  \\\n",
       "0      1872-11-30   Scotland    England           0           0   \n",
       "1      1873-03-08    England   Scotland           4           2   \n",
       "2      1874-03-07   Scotland    England           2           1   \n",
       "3      1875-03-06    England   Scotland           2           2   \n",
       "4      1876-03-04   Scotland    England           3           0   \n",
       "...           ...        ...        ...         ...         ...   \n",
       "42645  2021-09-09   Colombia      Chile           3           1   \n",
       "42646  2021-09-09   Paraguay  Venezuela           2           1   \n",
       "42647  2021-09-09    Uruguay    Ecuador           1           0   \n",
       "42648  2021-09-09  Argentina    Bolivia           3           0   \n",
       "42649  2021-09-09     Brazil       Peru           2           0   \n",
       "\n",
       "                         tournament          city    country  neutral  \n",
       "0                          Friendly       Glasgow   Scotland    False  \n",
       "1                          Friendly        London    England    False  \n",
       "2                          Friendly       Glasgow   Scotland    False  \n",
       "3                          Friendly        London    England    False  \n",
       "4                          Friendly       Glasgow   Scotland    False  \n",
       "...                             ...           ...        ...      ...  \n",
       "42645  FIFA World Cup qualification  Barranquilla   Colombia    False  \n",
       "42646  FIFA World Cup qualification      Asunción   Paraguay    False  \n",
       "42647  FIFA World Cup qualification    Montevideo    Uruguay    False  \n",
       "42648  FIFA World Cup qualification  Buenos Aires  Argentina    False  \n",
       "42649  FIFA World Cup qualification        Recife     Brazil    False  \n",
       "\n",
       "[42650 rows x 9 columns]"
      ]
     },
     "execution_count": 2,
     "metadata": {},
     "output_type": "execute_result"
    }
   ],
   "source": [
    "# Inspect the data and perform any required initial data cleaning\n",
    "df"
   ]
  },
  {
   "cell_type": "code",
   "execution_count": 3,
   "id": "84648d91",
   "metadata": {},
   "outputs": [
    {
     "data": {
      "text/plain": [
       "42650"
      ]
     },
     "execution_count": 3,
     "metadata": {},
     "output_type": "execute_result"
    }
   ],
   "source": [
    "# Number of tuples\n",
    "len(df)"
   ]
  },
  {
   "cell_type": "code",
   "execution_count": 4,
   "id": "493914c9",
   "metadata": {},
   "outputs": [
    {
     "data": {
      "text/plain": [
       "120"
      ]
     },
     "execution_count": 4,
     "metadata": {},
     "output_type": "execute_result"
    }
   ],
   "source": [
    "# Number of tournaments\n",
    "len(df.tournament.unique())"
   ]
  },
  {
   "cell_type": "code",
   "execution_count": 14,
   "id": "44793b56",
   "metadata": {},
   "outputs": [
    {
     "data": {
      "text/plain": [
       "908"
      ]
     },
     "execution_count": 14,
     "metadata": {},
     "output_type": "execute_result"
    }
   ],
   "source": [
    "# Convert date to timestamp\n",
    "import datetime as dt\n",
    "import numpy as np\n",
    "\n",
    "# No need for converting it to timestamp...\n",
    "\n",
    "# Matches played in 2018 - 908\n",
    "df['date'][pd.DatetimeIndex(df['date']).year == 2018].count()"
   ]
  },
  {
   "cell_type": "code",
   "execution_count": 16,
   "id": "1bf26cb2",
   "metadata": {},
   "outputs": [
    {
     "data": {
      "text/plain": [
       "9837"
      ]
     },
     "execution_count": 16,
     "metadata": {},
     "output_type": "execute_result"
    }
   ],
   "source": [
    "# Matches played in 2018 - 908\n",
    "win = df['home_score'][df.home_score > df.away_score].count()\n",
    "# Win games = 20739\n",
    "lost = df['home_score'][df.home_score < df.away_score].count()\n",
    "# Lost games = 12074\n",
    "draw = df['home_score'][df.home_score == df.away_score].count()\n",
    "draw\n",
    "# Lost games = 9837"
   ]
  },
  {
   "cell_type": "code",
   "execution_count": 22,
   "id": "595c2d7f",
   "metadata": {},
   "outputs": [
    {
     "data": {
      "image/png": "[encoded data removed]",
      "text/plain": [
       "<Figure size 640x480 with 1 Axes>"
      ]
     },
     "metadata": {},
     "output_type": "display_data"
    }
   ],
   "source": [
    "import matplotlib.pyplot as plt\n",
    "\n",
    "mylabels = ['Win', 'Lost', 'Draw']\n",
    "y = [win, lost, draw]\n",
    "plt.pie(y, labels = mylabels)\n",
    "plt.title('Number of wins, losses and ties of home team')\n",
    "plt.show()"
   ]
  },
  {
   "cell_type": "code",
   "execution_count": 18,
   "id": "2d658ca8",
   "metadata": {},
   "outputs": [
    {
     "data": {
      "text/plain": [
       "<AxesSubplot: >"
      ]
     },
     "execution_count": 18,
     "metadata": {},
     "output_type": "execute_result"
    },
    {
     "data": {
      "image/png": "[encoded data removed]",
      "text/plain": [
       "<Figure size 640x480 with 1 Axes>"
      ]
     },
     "metadata": {},
     "output_type": "display_data"
    }
   ],
   "source": [
    "df.groupby(['neutral']).size().plot.pie()"
   ]
  },
  {
   "cell_type": "code",
   "execution_count": 39,
   "id": "1d85f81c",
   "metadata": {},
   "outputs": [
    {
     "data": {
      "text/plain": [
       "313"
      ]
     },
     "execution_count": 39,
     "metadata": {},
     "output_type": "execute_result"
    }
   ],
   "source": [
    "# Total number of teams\n",
    "len(np.unique(df[['home_team', 'away_team']].values))"
   ]
  },
  {
   "cell_type": "code",
   "execution_count": null,
   "id": "1c47e701",
   "metadata": {},
   "outputs": [],
   "source": []
  }
 ],
 "metadata": {
  "kernelspec": {
   "display_name": "Python 3 (ipykernel)",
   "language": "python",
   "name": "python3"
  },
  "language_info": {
   "codemirror_mode": {
    "name": "ipython",
    "version": 3
   },
   "file_extension": ".py",
   "mimetype": "text/x-python",
   "name": "python",
   "nbconvert_exporter": "python",
   "pygments_lexer": "ipython3",
   "version": "3.9.15"
  }
 },
 "nbformat": 4,
 "nbformat_minor": 5
}
